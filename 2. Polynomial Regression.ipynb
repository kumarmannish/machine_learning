{
 "cells": [
  {
   "cell_type": "markdown",
   "source": [
    "# Polynomial Regression"
   ],
   "metadata": {
    "collapsed": false
   },
   "id": "d34ae8236726c79d"
  },
  {
   "cell_type": "markdown",
   "source": [
    "**Importing the Libraries**"
   ],
   "metadata": {
    "collapsed": false
   },
   "id": "bfaa32c07698b501"
  },
  {
   "cell_type": "code",
   "execution_count": 1,
   "id": "initial_id",
   "metadata": {
    "collapsed": true,
    "ExecuteTime": {
     "end_time": "2023-12-25T11:19:46.317204400Z",
     "start_time": "2023-12-25T11:19:46.302344900Z"
    }
   },
   "outputs": [],
   "source": [
    "import numpy as np\n",
    "import matplotlib.pyplot as plt\n",
    "import pandas as pd"
   ]
  },
  {
   "cell_type": "markdown",
   "source": [
    "**Importing the Data**"
   ],
   "metadata": {
    "collapsed": false
   },
   "id": "814fdf1bae128fab"
  },
  {
   "cell_type": "code",
   "outputs": [
    {
     "data": {
      "text/plain": "        TV  radio  newspaper  sales\n0    230.1   37.8       69.2   22.1\n1     44.5   39.3       45.1   10.4\n2     17.2   45.9       69.3    9.3\n3    151.5   41.3       58.5   18.5\n4    180.8   10.8       58.4   12.9\n..     ...    ...        ...    ...\n195   38.2    3.7       13.8    7.6\n196   94.2    4.9        8.1    9.7\n197  177.0    9.3        6.4   12.8\n198  283.6   42.0       66.2   25.5\n199  232.1    8.6        8.7   13.4\n\n[200 rows x 4 columns]",
      "text/html": "<div>\n<style scoped>\n    .dataframe tbody tr th:only-of-type {\n        vertical-align: middle;\n    }\n\n    .dataframe tbody tr th {\n        vertical-align: top;\n    }\n\n    .dataframe thead th {\n        text-align: right;\n    }\n</style>\n<table border=\"1\" class=\"dataframe\">\n  <thead>\n    <tr style=\"text-align: right;\">\n      <th></th>\n      <th>TV</th>\n      <th>radio</th>\n      <th>newspaper</th>\n      <th>sales</th>\n    </tr>\n  </thead>\n  <tbody>\n    <tr>\n      <th>0</th>\n      <td>230.1</td>\n      <td>37.8</td>\n      <td>69.2</td>\n      <td>22.1</td>\n    </tr>\n    <tr>\n      <th>1</th>\n      <td>44.5</td>\n      <td>39.3</td>\n      <td>45.1</td>\n      <td>10.4</td>\n    </tr>\n    <tr>\n      <th>2</th>\n      <td>17.2</td>\n      <td>45.9</td>\n      <td>69.3</td>\n      <td>9.3</td>\n    </tr>\n    <tr>\n      <th>3</th>\n      <td>151.5</td>\n      <td>41.3</td>\n      <td>58.5</td>\n      <td>18.5</td>\n    </tr>\n    <tr>\n      <th>4</th>\n      <td>180.8</td>\n      <td>10.8</td>\n      <td>58.4</td>\n      <td>12.9</td>\n    </tr>\n    <tr>\n      <th>...</th>\n      <td>...</td>\n      <td>...</td>\n      <td>...</td>\n      <td>...</td>\n    </tr>\n    <tr>\n      <th>195</th>\n      <td>38.2</td>\n      <td>3.7</td>\n      <td>13.8</td>\n      <td>7.6</td>\n    </tr>\n    <tr>\n      <th>196</th>\n      <td>94.2</td>\n      <td>4.9</td>\n      <td>8.1</td>\n      <td>9.7</td>\n    </tr>\n    <tr>\n      <th>197</th>\n      <td>177.0</td>\n      <td>9.3</td>\n      <td>6.4</td>\n      <td>12.8</td>\n    </tr>\n    <tr>\n      <th>198</th>\n      <td>283.6</td>\n      <td>42.0</td>\n      <td>66.2</td>\n      <td>25.5</td>\n    </tr>\n    <tr>\n      <th>199</th>\n      <td>232.1</td>\n      <td>8.6</td>\n      <td>8.7</td>\n      <td>13.4</td>\n    </tr>\n  </tbody>\n</table>\n<p>200 rows × 4 columns</p>\n</div>"
     },
     "execution_count": 2,
     "metadata": {},
     "output_type": "execute_result"
    }
   ],
   "source": [
    "data = pd.read_csv(\"Advertising.csv\")\n",
    "data"
   ],
   "metadata": {
    "collapsed": false,
    "ExecuteTime": {
     "end_time": "2023-12-25T11:19:46.359166200Z",
     "start_time": "2023-12-25T11:19:46.319205900Z"
    }
   },
   "id": "ac1d63ed09ab0482",
   "execution_count": 2
  },
  {
   "cell_type": "markdown",
   "source": [
    "**Extracting Independent and Dependent Features**"
   ],
   "metadata": {
    "collapsed": false
   },
   "id": "89f720a980f78d25"
  },
  {
   "cell_type": "code",
   "outputs": [],
   "source": [
    "x = data.drop(columns=\"sales\")\n",
    "y = data[\"sales\"]"
   ],
   "metadata": {
    "collapsed": false,
    "ExecuteTime": {
     "end_time": "2023-12-25T11:19:46.371979700Z",
     "start_time": "2023-12-25T11:19:46.354604600Z"
    }
   },
   "id": "5f202b7a4e8a2674",
   "execution_count": 3
  },
  {
   "cell_type": "markdown",
   "source": [
    "**Convert the Independent Features to the Polynomial Features**"
   ],
   "metadata": {
    "collapsed": false
   },
   "id": "d38a713882284719"
  },
  {
   "cell_type": "code",
   "outputs": [],
   "source": [
    "from sklearn.preprocessing import PolynomialFeatures\n",
    "poly_feat = PolynomialFeatures(degree=2, include_bias=False)\n",
    "x = poly_feat.fit_transform(x)"
   ],
   "metadata": {
    "collapsed": false,
    "ExecuteTime": {
     "end_time": "2023-12-25T11:19:46.528915300Z",
     "start_time": "2023-12-25T11:19:46.367726Z"
    }
   },
   "id": "86d2c524f937e254",
   "execution_count": 4
  },
  {
   "cell_type": "markdown",
   "source": [
    "**Splitting the Independent Features into the Training and Testing**"
   ],
   "metadata": {
    "collapsed": false
   },
   "id": "73c0212f5ea5774c"
  },
  {
   "cell_type": "code",
   "outputs": [],
   "source": [
    "from sklearn.model_selection import train_test_split\n",
    "x_train, x_test, y_train, y_test = train_test_split(x, y, test_size=0.2, random_state=17)"
   ],
   "metadata": {
    "collapsed": false,
    "ExecuteTime": {
     "end_time": "2023-12-25T11:19:46.617075400Z",
     "start_time": "2023-12-25T11:19:46.521558100Z"
    }
   },
   "id": "2b11178378900d43",
   "execution_count": 5
  },
  {
   "cell_type": "markdown",
   "source": [
    "**Implementing the Linear Regression**"
   ],
   "metadata": {
    "collapsed": false
   },
   "id": "961c5411c11a6e66"
  },
  {
   "cell_type": "code",
   "outputs": [],
   "source": [
    "from sklearn.linear_model import LinearRegression\n",
    "regression = LinearRegression()\n",
    "regression.fit(x_train, y_train)\n",
    "y_pred = regression.predict(x_test)"
   ],
   "metadata": {
    "collapsed": false,
    "ExecuteTime": {
     "end_time": "2023-12-25T11:19:46.723508700Z",
     "start_time": "2023-12-25T11:19:46.615072500Z"
    }
   },
   "id": "15b37295c1b624ec",
   "execution_count": 6
  },
  {
   "cell_type": "markdown",
   "source": [
    "**Evaluating the Performance Matrices**"
   ],
   "metadata": {
    "collapsed": false
   },
   "id": "2414991d8389e25a"
  },
  {
   "cell_type": "code",
   "outputs": [
    {
     "name": "stdout",
     "output_type": "stream",
     "text": [
      "Mean Absolute Error: 0.48186635794211086\n",
      "Mean Squared Error: 0.9278680370080086\n",
      "Root Mean Squared Error: 0.9632590705557922\n"
     ]
    }
   ],
   "source": [
    "from sklearn.metrics import mean_squared_error, mean_absolute_error\n",
    "print(\"Mean Absolute Error:\", mean_absolute_error(y_test, y_pred))\n",
    "print(\"Mean Squared Error:\", mean_squared_error(y_test, y_pred))\n",
    "print(\"Root Mean Squared Error:\", np.sqrt(mean_squared_error(y_test, y_pred)))"
   ],
   "metadata": {
    "collapsed": false,
    "ExecuteTime": {
     "end_time": "2023-12-25T11:19:46.741906800Z",
     "start_time": "2023-12-25T11:19:46.726707900Z"
    }
   },
   "id": "93b9b38e6cfc1c5b",
   "execution_count": 7
  },
  {
   "cell_type": "code",
   "outputs": [
    {
     "data": {
      "text/plain": "array([ 4.76340343e-02,  3.16585291e-02,  1.32739041e-03, -9.64441459e-05,\n        1.03750601e-03, -8.86738017e-06,  2.56072688e-04, -6.44609336e-05,\n        3.19786689e-05])"
     },
     "execution_count": 8,
     "metadata": {},
     "output_type": "execute_result"
    }
   ],
   "source": [
    "regression.coef_"
   ],
   "metadata": {
    "collapsed": false,
    "ExecuteTime": {
     "end_time": "2023-12-25T11:19:46.794929100Z",
     "start_time": "2023-12-25T11:19:46.741906800Z"
    }
   },
   "id": "b5ee02ac28555d8b",
   "execution_count": 8
  },
  {
   "cell_type": "markdown",
   "source": [
    "**Applying the different degree meta parameters on the Features to get the good performance**"
   ],
   "metadata": {
    "collapsed": false
   },
   "id": "74462a287ec3a474"
  },
  {
   "cell_type": "code",
   "outputs": [],
   "source": [
    "train_rmse_errors = []\n",
    "test_rmse_errors = []\n",
    "\n",
    "for d in range(1, 10):\n",
    "    poly_converter = PolynomialFeatures(degree=d, include_bias=False)\n",
    "    poly_feat = poly_converter.fit_transform(x)\n",
    "    x_train, x_test, y_train, y_test = train_test_split(poly_feat, y, test_size=0.2, random_state=17)\n",
    "    reg = LinearRegression()\n",
    "    reg.fit(x_train, y_train)\n",
    "    x_pred = reg.predict(x_train)\n",
    "    y_pred = reg.predict(x_test)\n",
    "    train_rmse_errors.append(np.sqrt(mean_squared_error(y_train, x_pred)))\n",
    "    test_rmse_errors.append(np.sqrt(mean_squared_error(y_test, y_pred)))"
   ],
   "metadata": {
    "collapsed": false,
    "ExecuteTime": {
     "end_time": "2023-12-25T11:19:50.875353500Z",
     "start_time": "2023-12-25T11:19:46.762558800Z"
    }
   },
   "id": "fbbc5726e3e4fdc5",
   "execution_count": 9
  },
  {
   "cell_type": "code",
   "outputs": [
    {
     "data": {
      "text/plain": "<Figure size 1600x600 with 1 Axes>",
      "image/png": "[encoded data removed]"
     },
     "metadata": {},
     "output_type": "display_data"
    }
   ],
   "source": [
    "plt.figure(figsize=(16, 6))\n",
    "plt.plot(range(9), train_rmse_errors, label=\"Training\")\n",
    "plt.plot(range(9), test_rmse_errors, label=\"Testing\")\n",
    "plt.xlabel(\"Degree of Polynomial\")\n",
    "plt.ylabel(\"RMSE\")\n",
    "plt.legend();"
   ],
   "metadata": {
    "collapsed": false,
    "ExecuteTime": {
     "end_time": "2023-12-25T11:19:51.207753900Z",
     "start_time": "2023-12-25T11:19:50.879355600Z"
    }
   },
   "id": "1833aa40f21a1712",
   "execution_count": 10
  },
  {
   "cell_type": "markdown",
   "source": [
    "**Model Deployment**"
   ],
   "metadata": {
    "collapsed": false
   },
   "id": "9188baef7aa68ee3"
  },
  {
   "cell_type": "code",
   "outputs": [
    {
     "data": {
      "text/plain": "LinearRegression()",
      "text/html": "<style>#sk-container-id-1 {color: black;}#sk-container-id-1 pre{padding: 0;}#sk-container-id-1 div.sk-toggleable {background-color: white;}#sk-container-id-1 label.sk-toggleable__label {cursor: pointer;display: block;width: 100%;margin-bottom: 0;padding: 0.3em;box-sizing: border-box;text-align: center;}#sk-container-id-1 label.sk-toggleable__label-arrow:before {content: \"▸\";float: left;margin-right: 0.25em;color: #696969;}#sk-container-id-1 label.sk-toggleable__label-arrow:hover:before {color: black;}#sk-container-id-1 div.sk-estimator:hover label.sk-toggleable__label-arrow:before {color: black;}#sk-container-id-1 div.sk-toggleable__content {max-height: 0;max-width: 0;overflow: hidden;text-align: left;background-color: #f0f8ff;}#sk-container-id-1 div.sk-toggleable__content pre {margin: 0.2em;color: black;border-radius: 0.25em;background-color: #f0f8ff;}#sk-container-id-1 input.sk-toggleable__control:checked~div.sk-toggleable__content {max-height: 200px;max-width: 100%;overflow: auto;}#sk-container-id-1 input.sk-toggleable__control:checked~label.sk-toggleable__label-arrow:before {content: \"▾\";}#sk-container-id-1 div.sk-estimator input.sk-toggleable__control:checked~label.sk-toggleable__label {background-color: #d4ebff;}#sk-container-id-1 div.sk-label input.sk-toggleable__control:checked~label.sk-toggleable__label {background-color: #d4ebff;}#sk-container-id-1 input.sk-hidden--visually {border: 0;clip: rect(1px 1px 1px 1px);clip: rect(1px, 1px, 1px, 1px);height: 1px;margin: -1px;overflow: hidden;padding: 0;position: absolute;width: 1px;}#sk-container-id-1 div.sk-estimator {font-family: monospace;background-color: #f0f8ff;border: 1px dotted black;border-radius: 0.25em;box-sizing: border-box;margin-bottom: 0.5em;}#sk-container-id-1 div.sk-estimator:hover {background-color: #d4ebff;}#sk-container-id-1 div.sk-parallel-item::after {content: \"\";width: 100%;border-bottom: 1px solid gray;flex-grow: 1;}#sk-container-id-1 div.sk-label:hover label.sk-toggleable__label {background-color: #d4ebff;}#sk-container-id-1 div.sk-serial::before {content: \"\";position: absolute;border-left: 1px solid gray;box-sizing: border-box;top: 0;bottom: 0;left: 50%;z-index: 0;}#sk-container-id-1 div.sk-serial {display: flex;flex-direction: column;align-items: center;background-color: white;padding-right: 0.2em;padding-left: 0.2em;position: relative;}#sk-container-id-1 div.sk-item {position: relative;z-index: 1;}#sk-container-id-1 div.sk-parallel {display: flex;align-items: stretch;justify-content: center;background-color: white;position: relative;}#sk-container-id-1 div.sk-item::before, #sk-container-id-1 div.sk-parallel-item::before {content: \"\";position: absolute;border-left: 1px solid gray;box-sizing: border-box;top: 0;bottom: 0;left: 50%;z-index: -1;}#sk-container-id-1 div.sk-parallel-item {display: flex;flex-direction: column;z-index: 1;position: relative;background-color: white;}#sk-container-id-1 div.sk-parallel-item:first-child::after {align-self: flex-end;width: 50%;}#sk-container-id-1 div.sk-parallel-item:last-child::after {align-self: flex-start;width: 50%;}#sk-container-id-1 div.sk-parallel-item:only-child::after {width: 0;}#sk-container-id-1 div.sk-dashed-wrapped {border: 1px dashed gray;margin: 0 0.4em 0.5em 0.4em;box-sizing: border-box;padding-bottom: 0.4em;background-color: white;}#sk-container-id-1 div.sk-label label {font-family: monospace;font-weight: bold;display: inline-block;line-height: 1.2em;}#sk-container-id-1 div.sk-label-container {text-align: center;}#sk-container-id-1 div.sk-container {/* jupyter's `normalize.less` sets `[hidden] { display: none; }` but bootstrap.min.css set `[hidden] { display: none !important; }` so we also need the `!important` here to be able to override the default hidden behavior on the sphinx rendered scikit-learn.org. See: https://github.com/scikit-learn/scikit-learn/issues/21755 */display: inline-block !important;position: relative;}#sk-container-id-1 div.sk-text-repr-fallback {display: none;}</style><div id=\"sk-container-id-1\" class=\"sk-top-container\"><div class=\"sk-text-repr-fallback\"><pre>LinearRegression()</pre><b>In a Jupyter environment, please rerun this cell to show the HTML representation or trust the notebook. <br />On GitHub, the HTML representation is unable to render, please try loading this page with nbviewer.org.</b></div><div class=\"sk-container\" hidden><div class=\"sk-item\"><div class=\"sk-estimator sk-toggleable\"><input class=\"sk-toggleable__control sk-hidden--visually\" id=\"sk-estimator-id-1\" type=\"checkbox\" checked><label for=\"sk-estimator-id-1\" class=\"sk-toggleable__label sk-toggleable__label-arrow\">LinearRegression</label><div class=\"sk-toggleable__content\"><pre>LinearRegression()</pre></div></div></div></div></div>"
     },
     "execution_count": 11,
     "metadata": {},
     "output_type": "execute_result"
    }
   ],
   "source": [
    "final_poly_feat = PolynomialFeatures(degree=3, include_bias=False)\n",
    "poly_feat = final_poly_feat.fit_transform(x)\n",
    "final_model = LinearRegression()\n",
    "final_model.fit(poly_feat, y)"
   ],
   "metadata": {
    "collapsed": false,
    "ExecuteTime": {
     "end_time": "2023-12-25T11:19:51.294536900Z",
     "start_time": "2023-12-25T11:19:51.207753900Z"
    }
   },
   "id": "ea44afd98deb3e96",
   "execution_count": 11
  },
  {
   "cell_type": "code",
   "outputs": [],
   "source": [
    "from joblib import dump, load\n",
    "dump(final_model, \"Final Poly Model.joblib\")\n",
    "dump(final_poly_feat, \"Final Polynomial Features.joblib\")\n",
    "final_model = load(\"Final Poly Model.joblib\")\n",
    "final_poly_feat = load(\"Final Polynomial Features.joblib\")"
   ],
   "metadata": {
    "collapsed": false,
    "ExecuteTime": {
     "end_time": "2023-12-25T11:19:51.327478400Z",
     "start_time": "2023-12-25T11:19:51.289013800Z"
    }
   },
   "id": "3b3e6b7878abb989",
   "execution_count": 12
  }
 ],
 "metadata": {
  "kernelspec": {
   "display_name": "Python 3",
   "language": "python",
   "name": "python3"
  },
  "language_info": {
   "codemirror_mode": {
    "name": "ipython",
    "version": 2
   },
   "file_extension": ".py",
   "mimetype": "text/x-python",
   "name": "python",
   "nbconvert_exporter": "python",
   "pygments_lexer": "ipython2",
   "version": "2.7.6"
  }
 },
 "nbformat": 4,
 "nbformat_minor": 5
}
