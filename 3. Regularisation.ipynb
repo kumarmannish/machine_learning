{
 "cells": [
  {
   "cell_type": "markdown",
   "source": [
    "# L2 Regularization (Ridge Regression)"
   ],
   "metadata": {
    "collapsed": false
   },
   "id": "f51709ee10575fa4"
  },
  {
   "cell_type": "markdown",
   "source": [
    "**Importing the Libraries**"
   ],
   "metadata": {
    "collapsed": false
   },
   "id": "2ed7ffcbe683788e"
  },
  {
   "cell_type": "code",
   "outputs": [],
   "source": [
    "import numpy as np\n",
    "import matplotlib.pyplot as plt\n",
    "import pandas as pd\n",
    "import seaborn as sns"
   ],
   "metadata": {
    "collapsed": false,
    "ExecuteTime": {
     "end_time": "2023-12-26T12:54:19.611571100Z",
     "start_time": "2023-12-26T12:54:19.592853600Z"
    }
   },
   "id": "c6485c544b309b96",
   "execution_count": 1
  },
  {
   "cell_type": "markdown",
   "source": [
    "**Importing the Data**"
   ],
   "metadata": {
    "collapsed": false
   },
   "id": "defa9db8eed18012"
  },
  {
   "cell_type": "code",
   "outputs": [
    {
     "data": {
      "text/plain": "        TV  radio  newspaper  sales\n0    230.1   37.8       69.2   22.1\n1     44.5   39.3       45.1   10.4\n2     17.2   45.9       69.3    9.3\n3    151.5   41.3       58.5   18.5\n4    180.8   10.8       58.4   12.9\n..     ...    ...        ...    ...\n195   38.2    3.7       13.8    7.6\n196   94.2    4.9        8.1    9.7\n197  177.0    9.3        6.4   12.8\n198  283.6   42.0       66.2   25.5\n199  232.1    8.6        8.7   13.4\n\n[200 rows x 4 columns]",
      "text/html": "<div>\n<style scoped>\n    .dataframe tbody tr th:only-of-type {\n        vertical-align: middle;\n    }\n\n    .dataframe tbody tr th {\n        vertical-align: top;\n    }\n\n    .dataframe thead th {\n        text-align: right;\n    }\n</style>\n<table border=\"1\" class=\"dataframe\">\n  <thead>\n    <tr style=\"text-align: right;\">\n      <th></th>\n      <th>TV</th>\n      <th>radio</th>\n      <th>newspaper</th>\n      <th>sales</th>\n    </tr>\n  </thead>\n  <tbody>\n    <tr>\n      <th>0</th>\n      <td>230.1</td>\n      <td>37.8</td>\n      <td>69.2</td>\n      <td>22.1</td>\n    </tr>\n    <tr>\n      <th>1</th>\n      <td>44.5</td>\n      <td>39.3</td>\n      <td>45.1</td>\n      <td>10.4</td>\n    </tr>\n    <tr>\n      <th>2</th>\n      <td>17.2</td>\n      <td>45.9</td>\n      <td>69.3</td>\n      <td>9.3</td>\n    </tr>\n    <tr>\n      <th>3</th>\n      <td>151.5</td>\n      <td>41.3</td>\n      <td>58.5</td>\n      <td>18.5</td>\n    </tr>\n    <tr>\n      <th>4</th>\n      <td>180.8</td>\n      <td>10.8</td>\n      <td>58.4</td>\n      <td>12.9</td>\n    </tr>\n    <tr>\n      <th>...</th>\n      <td>...</td>\n      <td>...</td>\n      <td>...</td>\n      <td>...</td>\n    </tr>\n    <tr>\n      <th>195</th>\n      <td>38.2</td>\n      <td>3.7</td>\n      <td>13.8</td>\n      <td>7.6</td>\n    </tr>\n    <tr>\n      <th>196</th>\n      <td>94.2</td>\n      <td>4.9</td>\n      <td>8.1</td>\n      <td>9.7</td>\n    </tr>\n    <tr>\n      <th>197</th>\n      <td>177.0</td>\n      <td>9.3</td>\n      <td>6.4</td>\n      <td>12.8</td>\n    </tr>\n    <tr>\n      <th>198</th>\n      <td>283.6</td>\n      <td>42.0</td>\n      <td>66.2</td>\n      <td>25.5</td>\n    </tr>\n    <tr>\n      <th>199</th>\n      <td>232.1</td>\n      <td>8.6</td>\n      <td>8.7</td>\n      <td>13.4</td>\n    </tr>\n  </tbody>\n</table>\n<p>200 rows × 4 columns</p>\n</div>"
     },
     "execution_count": 2,
     "metadata": {},
     "output_type": "execute_result"
    }
   ],
   "source": [
    "data = pd.read_csv(\"Advertising.csv\")\n",
    "data"
   ],
   "metadata": {
    "collapsed": false,
    "ExecuteTime": {
     "end_time": "2023-12-26T12:54:19.666843500Z",
     "start_time": "2023-12-26T12:54:19.609435700Z"
    }
   },
   "id": "f820deae77e7b08b",
   "execution_count": 2
  },
  {
   "cell_type": "markdown",
   "source": [
    "**Extracting Independent and Dependent Features**"
   ],
   "metadata": {
    "collapsed": false
   },
   "id": "5b24d7090d31035b"
  },
  {
   "cell_type": "code",
   "outputs": [],
   "source": [
    "x = data.drop(columns=\"sales\")\n",
    "y = data[\"sales\"]"
   ],
   "metadata": {
    "collapsed": false,
    "ExecuteTime": {
     "end_time": "2023-12-26T12:54:19.669049700Z",
     "start_time": "2023-12-26T12:54:19.641654100Z"
    }
   },
   "id": "844483b1ad394565",
   "execution_count": 3
  },
  {
   "cell_type": "markdown",
   "source": [
    "**Convert the Independent Features into the Polynomial Features**"
   ],
   "metadata": {
    "collapsed": false
   },
   "id": "a754e8b6c6b2800b"
  },
  {
   "cell_type": "code",
   "outputs": [],
   "source": [
    "from sklearn.preprocessing import PolynomialFeatures\n",
    "poly_conv = PolynomialFeatures(degree=3, include_bias=False)\n",
    "poly_feat = poly_conv.fit_transform(x)"
   ],
   "metadata": {
    "collapsed": false,
    "ExecuteTime": {
     "end_time": "2023-12-26T12:54:19.826601500Z",
     "start_time": "2023-12-26T12:54:19.657433Z"
    }
   },
   "id": "1481daddb00515e4",
   "execution_count": 4
  },
  {
   "cell_type": "markdown",
   "source": [
    "**Splitting the Independent Features into the Training and Testing Set**"
   ],
   "metadata": {
    "collapsed": false
   },
   "id": "279615881b1bec7e"
  },
  {
   "cell_type": "code",
   "outputs": [],
   "source": [
    "from sklearn.model_selection import train_test_split\n",
    "x_train, x_test, y_train, y_test = train_test_split(poly_feat, y, test_size=0.2, random_state=17)"
   ],
   "metadata": {
    "collapsed": false,
    "ExecuteTime": {
     "end_time": "2023-12-26T12:54:19.895847800Z",
     "start_time": "2023-12-26T12:54:19.813471500Z"
    }
   },
   "id": "98baa647495812a",
   "execution_count": 5
  },
  {
   "cell_type": "markdown",
   "source": [
    "**Scaling the Training and Testing Independent**"
   ],
   "metadata": {
    "collapsed": false
   },
   "id": "924b1df803f44d82"
  },
  {
   "cell_type": "code",
   "outputs": [],
   "source": [
    "from sklearn.preprocessing import StandardScaler\n",
    "scaler = StandardScaler()\n",
    "scaler.fit(x_train)\n",
    "x_train = scaler.transform(x_train)\n",
    "x_test = scaler.transform(x_test)"
   ],
   "metadata": {
    "collapsed": false,
    "ExecuteTime": {
     "end_time": "2023-12-26T12:54:19.916765200Z",
     "start_time": "2023-12-26T12:54:19.888020800Z"
    }
   },
   "id": "666b6038142660a6",
   "execution_count": 6
  },
  {
   "cell_type": "markdown",
   "source": [
    "**Implementing the Ridge Regularization**"
   ],
   "metadata": {
    "collapsed": false
   },
   "id": "2274447d5a6706e9"
  },
  {
   "cell_type": "code",
   "outputs": [],
   "source": [
    "from sklearn.linear_model import Ridge\n",
    "ridge_model = Ridge(alpha=10)\n",
    "ridge_model.fit(x_train, y_train)\n",
    "y_pred = ridge_model.predict(x_test)"
   ],
   "metadata": {
    "collapsed": false,
    "ExecuteTime": {
     "end_time": "2023-12-26T12:54:20.022730900Z",
     "start_time": "2023-12-26T12:54:19.904656900Z"
    }
   },
   "id": "63d36ec3aa09cc7b",
   "execution_count": 7
  },
  {
   "cell_type": "markdown",
   "source": [
    "**Evaluating the Performance Matrices with Ridge**"
   ],
   "metadata": {
    "collapsed": false
   },
   "id": "15b8588f380542f0"
  },
  {
   "cell_type": "code",
   "outputs": [
    {
     "name": "stdout",
     "output_type": "stream",
     "text": [
      "Mean Absolute Error: 0.8378561927692069\n",
      "Mean Squared Error: 2.035348601561753\n",
      "Root Mean Squared Error: 1.4266564413206682\n"
     ]
    }
   ],
   "source": [
    "from sklearn.metrics import mean_squared_error, mean_absolute_error\n",
    "print(\"Mean Absolute Error:\", mean_absolute_error(y_test, y_pred))\n",
    "print(\"Mean Squared Error:\", mean_squared_error(y_test, y_pred))\n",
    "print(\"Root Mean Squared Error:\", np.sqrt(mean_squared_error(y_test, y_pred)))"
   ],
   "metadata": {
    "collapsed": false,
    "ExecuteTime": {
     "end_time": "2023-12-26T12:54:20.042010600Z",
     "start_time": "2023-12-26T12:54:20.026034800Z"
    }
   },
   "id": "eb783f74683a585b",
   "execution_count": 8
  },
  {
   "cell_type": "markdown",
   "source": [
    "**Getting the Scorer Names**"
   ],
   "metadata": {
    "collapsed": false
   },
   "id": "313ddb2ae8b90c6a"
  },
  {
   "cell_type": "code",
   "outputs": [
    {
     "name": "stdout",
     "output_type": "stream",
     "text": [
      "['accuracy', 'adjusted_mutual_info_score', 'adjusted_rand_score', 'average_precision', 'balanced_accuracy', 'completeness_score', 'explained_variance', 'f1', 'f1_macro', 'f1_micro', 'f1_samples', 'f1_weighted', 'fowlkes_mallows_score', 'homogeneity_score', 'jaccard', 'jaccard_macro', 'jaccard_micro', 'jaccard_samples', 'jaccard_weighted', 'matthews_corrcoef', 'max_error', 'mutual_info_score', 'neg_brier_score', 'neg_log_loss', 'neg_mean_absolute_error', 'neg_mean_absolute_percentage_error', 'neg_mean_gamma_deviance', 'neg_mean_poisson_deviance', 'neg_mean_squared_error', 'neg_mean_squared_log_error', 'neg_median_absolute_error', 'neg_negative_likelihood_ratio', 'neg_root_mean_squared_error', 'normalized_mutual_info_score', 'positive_likelihood_ratio', 'precision', 'precision_macro', 'precision_micro', 'precision_samples', 'precision_weighted', 'r2', 'rand_score', 'recall', 'recall_macro', 'recall_micro', 'recall_samples', 'recall_weighted', 'roc_auc', 'roc_auc_ovo', 'roc_auc_ovo_weighted', 'roc_auc_ovr', 'roc_auc_ovr_weighted', 'top_k_accuracy', 'v_measure_score']\n"
     ]
    }
   ],
   "source": [
    "from sklearn.metrics import get_scorer_names\n",
    "print(get_scorer_names())"
   ],
   "metadata": {
    "collapsed": false,
    "ExecuteTime": {
     "end_time": "2023-12-26T12:54:20.108944700Z",
     "start_time": "2023-12-26T12:54:20.043088600Z"
    }
   },
   "id": "fe72cfeb74b0c0c2",
   "execution_count": 9
  },
  {
   "cell_type": "markdown",
   "source": [
    "**Implementing the Ridge CV with scoring name 'neg_mean_absolute_error'**"
   ],
   "metadata": {
    "collapsed": false
   },
   "id": "6b0c904ff9e166a7"
  },
  {
   "cell_type": "code",
   "outputs": [
    {
     "name": "stdout",
     "output_type": "stream",
     "text": [
      "Best Alpha Value is - 0.1\n"
     ]
    }
   ],
   "source": [
    "from sklearn.linear_model import RidgeCV\n",
    "ridge_cv_model = RidgeCV(scoring='neg_mean_absolute_error')\n",
    "ridge_cv_model.fit(x_train, y_train)\n",
    "print(\"Best Alpha Value is -\", ridge_cv_model.alpha_)\n",
    "y_pred = ridge_cv_model.predict(x_test)"
   ],
   "metadata": {
    "collapsed": false,
    "ExecuteTime": {
     "end_time": "2023-12-26T12:54:20.227448500Z",
     "start_time": "2023-12-26T12:54:20.057691900Z"
    }
   },
   "id": "756f1c10fa654069",
   "execution_count": 10
  },
  {
   "cell_type": "markdown",
   "source": [
    "**Evaluating the Performance Matrices with Ridge CV**"
   ],
   "metadata": {
    "collapsed": false
   },
   "id": "2a2bde4f15c91015"
  },
  {
   "cell_type": "code",
   "outputs": [
    {
     "name": "stdout",
     "output_type": "stream",
     "text": [
      "Mean Absolute Error: 0.4173549727553141\n",
      "Mean Squared Error: 0.800228411849775\n",
      "Root Mean Squared Error: 0.894554867992889\n"
     ]
    }
   ],
   "source": [
    "from sklearn.metrics import mean_squared_error, mean_absolute_error\n",
    "print(\"Mean Absolute Error:\", mean_absolute_error(y_test, y_pred))\n",
    "print(\"Mean Squared Error:\", mean_squared_error(y_test, y_pred))\n",
    "print(\"Root Mean Squared Error:\", np.sqrt(mean_squared_error(y_test, y_pred)))"
   ],
   "metadata": {
    "collapsed": false,
    "ExecuteTime": {
     "end_time": "2023-12-26T12:54:20.229523900Z",
     "start_time": "2023-12-26T12:54:20.088132500Z"
    }
   },
   "id": "349ba9e486a18090",
   "execution_count": 11
  },
  {
   "cell_type": "markdown",
   "source": [
    "# L1 Regularization (Lasso Regression)"
   ],
   "metadata": {
    "collapsed": false
   },
   "id": "aa028d8c0d24695b"
  },
  {
   "cell_type": "markdown",
   "source": [
    "**Implementing the Lasso CV with CV 5 and Max Iteration of 10000 to converge the alpha values**"
   ],
   "metadata": {
    "collapsed": false
   },
   "id": "284abc36ffe190e1"
  },
  {
   "cell_type": "code",
   "outputs": [
    {
     "name": "stdout",
     "output_type": "stream",
     "text": [
      "Best Alpha Value is 0.005051185492398729\n"
     ]
    }
   ],
   "source": [
    "from sklearn.linear_model import LassoCV\n",
    "lasso_cv_model = LassoCV(cv=5, max_iter=10000)\n",
    "lasso_cv_model.fit(x_train,y_train)\n",
    "y_pred = lasso_cv_model.predict(x_test)\n",
    "print(\"Best Alpha Value is\", lasso_cv_model.alpha_)"
   ],
   "metadata": {
    "collapsed": false,
    "ExecuteTime": {
     "end_time": "2023-12-26T12:54:20.274168700Z",
     "start_time": "2023-12-26T12:54:20.105653800Z"
    }
   },
   "id": "d8610a42b3a5d436",
   "execution_count": 12
  },
  {
   "cell_type": "markdown",
   "source": [
    "**Evaluating the Performance Matrices with the Lasso CV**"
   ],
   "metadata": {
    "collapsed": false
   },
   "id": "68b44ed028ccf0dd"
  },
  {
   "cell_type": "code",
   "outputs": [
    {
     "name": "stdout",
     "output_type": "stream",
     "text": [
      "Mean Absolute Error: 0.4568585913702711\n",
      "Mean Squared Error: 0.8939416629351626\n",
      "Root Mean Squared Error: 0.9454848824466537\n"
     ]
    }
   ],
   "source": [
    "from sklearn.metrics import mean_squared_error, mean_absolute_error\n",
    "print(\"Mean Absolute Error:\", mean_absolute_error(y_test, y_pred))\n",
    "print(\"Mean Squared Error:\", mean_squared_error(y_test, y_pred))\n",
    "print(\"Root Mean Squared Error:\", np.sqrt(mean_squared_error(y_test, y_pred)))"
   ],
   "metadata": {
    "collapsed": false,
    "ExecuteTime": {
     "end_time": "2023-12-26T12:54:20.395927900Z",
     "start_time": "2023-12-26T12:54:20.254315200Z"
    }
   },
   "id": "ecd1a7be32c85ba4",
   "execution_count": 13
  },
  {
   "cell_type": "markdown",
   "source": [
    "# L1 and L2 Regularization (Elastic Net)"
   ],
   "metadata": {
    "collapsed": false
   },
   "id": "a7a27692ed2fbe41"
  },
  {
   "cell_type": "markdown",
   "source": [
    "**Implementing the Elastic Net CV with list of Lambda Ratios and Maximum Iteration of 10000 to converge the alpha values**"
   ],
   "metadata": {
    "collapsed": false
   },
   "id": "2b0a97c50dc84908"
  },
  {
   "cell_type": "code",
   "outputs": [
    {
     "name": "stdout",
     "output_type": "stream",
     "text": [
      "Best L1 Value is 1.0\n",
      "Best Alpha Value is 0.005051185492398729\n"
     ]
    }
   ],
   "source": [
    "from sklearn.linear_model import ElasticNetCV\n",
    "elasticnet_cv_model = ElasticNetCV(l1_ratio=[0.1, 0.5, 0.7, 0.9, 0.95, 0.99, 1], max_iter=10000)\n",
    "elasticnet_cv_model.fit(x_train,y_train)\n",
    "y_pred = elasticnet_cv_model.predict(x_test)\n",
    "print(\"Best L1 Value is\", elasticnet_cv_model.l1_ratio_)\n",
    "print(\"Best Alpha Value is\", elasticnet_cv_model.alpha_)"
   ],
   "metadata": {
    "collapsed": false,
    "ExecuteTime": {
     "end_time": "2023-12-26T12:54:21.069763800Z",
     "start_time": "2023-12-26T12:54:20.269789500Z"
    }
   },
   "id": "61c31d2d41a850c4",
   "execution_count": 14
  },
  {
   "cell_type": "markdown",
   "source": [
    "**Evaluating the Performance Matrices with the Elastic Net CV**"
   ],
   "metadata": {
    "collapsed": false
   },
   "id": "9d71aa85712fec1e"
  },
  {
   "cell_type": "code",
   "outputs": [
    {
     "name": "stdout",
     "output_type": "stream",
     "text": [
      "Mean Absolute Error: 0.4568585913702711\n",
      "Mean Squared Error: 0.8939416629351626\n",
      "Root Mean Squared Error: 0.9454848824466537\n"
     ]
    }
   ],
   "source": [
    "from sklearn.metrics import mean_squared_error, mean_absolute_error\n",
    "print(\"Mean Absolute Error:\", mean_absolute_error(y_test, y_pred))\n",
    "print(\"Mean Squared Error:\", mean_squared_error(y_test, y_pred))\n",
    "print(\"Root Mean Squared Error:\", np.sqrt(mean_squared_error(y_test, y_pred)))"
   ],
   "metadata": {
    "collapsed": false,
    "ExecuteTime": {
     "end_time": "2023-12-26T12:54:21.149868900Z",
     "start_time": "2023-12-26T12:54:21.070908800Z"
    }
   },
   "id": "eee34700ceba2145",
   "execution_count": 15
  }
 ],
 "metadata": {
  "kernelspec": {
   "display_name": "Python 3",
   "language": "python",
   "name": "python3"
  },
  "language_info": {
   "codemirror_mode": {
    "name": "ipython",
    "version": 2
   },
   "file_extension": ".py",
   "mimetype": "text/x-python",
   "name": "python",
   "nbconvert_exporter": "python",
   "pygments_lexer": "ipython2",
   "version": "2.7.6"
  }
 },
 "nbformat": 4,
 "nbformat_minor": 5
}
